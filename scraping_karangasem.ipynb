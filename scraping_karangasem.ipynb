{
 "cells": [
  {
   "cell_type": "code",
   "execution_count": 16,
   "metadata": {},
   "outputs": [],
   "source": [
    "from selenium import webdriver\n",
    "from bs4 import BeautifulSoup\n",
    "import requests\n",
    "import time\n",
    "import re\n",
    "import pandas as pd\n",
    "import numpy as np\n",
    "from selenium import webdriver\n",
    "from parsel import Selector"
   ]
  },
  {
   "cell_type": "code",
   "execution_count": 37,
   "metadata": {},
   "outputs": [
    {
     "name": "stderr",
     "output_type": "stream",
     "text": [
      "C:\\Users\\Nara\\AppData\\Local\\Temp\\ipykernel_4928\\589032008.py:5: DeprecationWarning: executable_path has been deprecated, please pass in a Service object\n",
      "  driver = webdriver.Chrome(chromedrive_path)\n"
     ]
    }
   ],
   "source": [
    "from selenium import webdriver\n",
    "from parsel import Selector\n",
    "\n",
    "chromedrive_path = './chromedriver' # use the path to the driver you downloaded from previous steps\n",
    "driver = webdriver.Chrome(chromedrive_path)\n",
    "url = 'https://www.google.com/maps/search/objek+wisata+karangasem/@-8.673686,114.9662564,10z/data=!4m2!2m1!6e1'\n",
    "text = requests.get(url).text\n",
    "driver.get(url)\n",
    "# driver.execute_script('window.scrollTo(0, document.body.scrollHeight);')\n",
    "try:\n",
    "    input('Press any key to continue...')\n",
    "    page_content = driver.page_source\n",
    "    soup = BeautifulSoup(page_content, 'lxml')\n",
    "    all_links = soup.find_all(\"a\")\n",
    "finally:\n",
    "    driver.quit()"
   ]
  },
  {
   "cell_type": "code",
   "execution_count": 38,
   "metadata": {},
   "outputs": [],
   "source": [
    "name_list = list()\n",
    "for link in all_links:\n",
    "    try:\n",
    "        link = link.get('href')\n",
    "        match = re.search('place/(.*?)/', link)\n",
    "        result = match.group(1)\n",
    "        result = result.replace('+', ' ')\n",
    "        name_list.append([result,link])\n",
    "    except:\n",
    "        continue"
   ]
  },
  {
   "cell_type": "code",
   "execution_count": 39,
   "metadata": {},
   "outputs": [
    {
     "data": {
      "text/plain": [
       "71"
      ]
     },
     "execution_count": 39,
     "metadata": {},
     "output_type": "execute_result"
    }
   ],
   "source": [
    "len(name_list)"
   ]
  },
  {
   "cell_type": "code",
   "execution_count": 11,
   "metadata": {},
   "outputs": [],
   "source": [
    "# data = pd.DataFrame(name_list, columns=['name','link'])\n",
    "# data = data[1:]\n",
    "# data.reset_index(drop=True, inplace=True)\n",
    "# data"
   ]
  },
  {
   "cell_type": "code",
   "execution_count": 12,
   "metadata": {},
   "outputs": [],
   "source": [
    "# data.to_csv('karangasem.csv', index=False)"
   ]
  },
  {
   "cell_type": "code",
   "execution_count": 40,
   "metadata": {},
   "outputs": [
    {
     "name": "stdout",
     "output_type": "stream",
     "text": [
      "0 kata : nan\n",
      "1 kata : Buka\n",
      "2 kata : Buka\n",
      "3 kata : Buka\n",
      "4 kata : Buka\n",
      "5 kata : Buka\n",
      "6 kata : Buka\n",
      "7 kata : Buka\n",
      "8 kata : Buka\n",
      "9 kata : Buka\n",
      "10 kata : Buka\n",
      "11 kata : Buka\n",
      "12 kata : Buka\n",
      "13 kata : Buka\n",
      "14 kata : Buka\n",
      "15 kata : Buka\n",
      "16 kata : Buka\n",
      "17 kata : Buka\n",
      "18 kata : Buka\n",
      "19 kata : Buka\n",
      "20 kata : Buka\n",
      "21 kata : Buka\n",
      "22 kata : Buka\n",
      "23 kata : Buka\n",
      "24 kata : Buka\n",
      "25 kata : Buka\n",
      "26 kata : Buka\n",
      "27 kata : nan\n",
      "28 kata : Buka\n",
      "29 kata : nan\n",
      "30 kata : Buka\n",
      "31 kata : Buka\n",
      "32 kata : Buka\n",
      "33 kata : Buka\n",
      "34 kata : Buka\n",
      "35 kata : nan\n",
      "36 kata : nan\n",
      "37 kata : nan\n",
      "38 kata : nan\n",
      "39 kata : nan\n",
      "40 kata : Buka\n",
      "41 kata : nan\n",
      "42 kata : Buka\n",
      "43 kata : Buka\n",
      "44 kata : Buka\n",
      "45 kata : nan\n",
      "46 kata : Buka\n",
      "47 kata : Buka\n",
      "48 kata : nan\n",
      "49 kata : Buka\n",
      "50 kata : Buka\n",
      "51 kata : Buka\n",
      "52 kata : nan\n",
      "53 kata : Buka\n",
      "54 kata : Tutup sementara\n",
      "55 kata : nan\n",
      "56 kata : Buka\n",
      "57 kata : Buka\n",
      "58 kata : nan\n",
      "59 kata : Buka\n",
      "60 kata : Buka\n",
      "61 kata : Buka\n",
      "62 kata : nan\n",
      "63 kata : Buka\n",
      "64 kata : nan\n",
      "65 kata : Buka\n",
      "66 kata : Buka\n",
      "67 kata : Buka\n",
      "68 kata : nan\n",
      "69 kata : Tutup sementara\n",
      "70 kata : Tutup sementara\n"
     ]
    }
   ],
   "source": [
    "list_lengkap = list()\n",
    "isi = soup.find_all('div', class_='bfdHYd Ppzolf OFBs3e')\n",
    "list_kata = ['Buka', 'Tutup sementara','Tutup']\n",
    "for idx,i in enumerate(isi):\n",
    "    list_sementara = list()\n",
    "    teks = i.text\n",
    "    status = False\n",
    "    # print(teks)\n",
    "    for kata in list_kata:\n",
    "        if kata in teks:\n",
    "            print(f'{idx} kata : {kata}')\n",
    "            list_lengkap.append(kata)\n",
    "            status = True\n",
    "            break\n",
    "    if status == False:\n",
    "        print(f'{idx} kata : {np.nan}')\n",
    "        list_lengkap.append(np.nan)\n"
   ]
  },
  {
   "cell_type": "code",
   "execution_count": null,
   "metadata": {},
   "outputs": [],
   "source": []
  },
  {
   "cell_type": "code",
   "execution_count": 42,
   "metadata": {},
   "outputs": [],
   "source": [
    "data = pd.DataFrame(name_list, columns=['name','link'])\n",
    "data['status'] = list_lengkap\n",
    "data = data[1:]\n",
    "data.reset_index(drop=True, inplace=True)\n",
    "data.to_excel('karangasem.xlsx', index=False)"
   ]
  },
  {
   "cell_type": "code",
   "execution_count": 32,
   "metadata": {},
   "outputs": [
    {
     "name": "stdout",
     "output_type": "stream",
     "text": [
      "0 teks :         Bus Di Bali SariDenaka         Tidak ada ulasan         · Rental Bus     · Jl. Sekar Jepun VI         \n",
      "1 teks :         Tirta Gangga         4,6(13.606)         · Tujuan Wisata     · HHQQ+836, Jalan Raya Abang Desa Adat Jl. Raya Tirta Gangga       · Kuil yang tenang dan taman air umum       ·  Buka ⋅ Tutup pukul 17.00                    \"Objek wisata dengan banyak objek untuk selfie\"  ·    \n",
      "2 teks :         Taman Ujung         4,6(4.143)         · Tujuan Wisata     · Taman Ujung       · Bekas istana dengan kebun & kolam Buka ⋅ Tutup pukul 21.00      ·  Buka ⋅ Tutup pukul 19.00                    \"Salah satu objek wisata di karangasem-bali.\"  ·    \n",
      "3 teks :         Puri Agung Karangasem         4,5(541)         · Tujuan Wisata     · Jl. Sultan Agung       ·  Buka ⋅ Tutup pukul 21.00                    Situs ini mengandung obyek wisata  ·    \n",
      "4 teks :         Bukit Asah Desa Bugbug         4,6(1.677)         · Tujuan Wisata     · FJV6+Q6G, Desa Adat Bugbug       · Kompleks candi di lereng, gerbang ikonis Buka 24 jam                    \"Tempat wisata yg bagus....👍❤❤❤\"  ·    \n",
      "5 teks :         Pura Penataran Agung Lempuyang         4,3(6.343)         · Tujuan Wisata     · Jl. Pura Telaga Mas Lempuyang       · Kompleks candi di lereng, gerbang ikonis Buka 24 jam      ·  Buka ⋅ Tutup pukul 19.00                    \"Berwisata  spiritual ke pura puncak dwangga.\"  ·    \n",
      "6 teks :         Bukit Putung         4,5(218)         · Tujuan Wisata     · GGW8+3FG, Unnamed Road       ·  Buka 24 jam                    \"Pemandangan bukit persawahan dan pantai sangat bagus\"  ·    \n",
      "7 teks :         Pantai Wates Karangasem         4,4(2.206)         · Tujuan Wisata     · CFXJ+Q2P       · Kolam & taman di area bekas istana Buka 24 jam                    \"Menjadi objek wisata pilihan saat penat dijalan, dan fasilitas memadai\"  ·    \n",
      "8 teks :         Taman Soekasada Ujung Water Palace         4,6(3.829)         · Tujuan Wisata     · Br. Dinas Ujung       · Kolam & taman di area bekas istana       ·  Buka ⋅ Tutup pukul 19.00                    \"Salah satu objek wisata bersejarah di timur Pulau Dewata.\"  ·    \n",
      "9 teks :         Taman Edelweis Bali         4,5(2.529)         · Tujuan Wisata       · Taman bunga dengan panorama gunung Buka ⋅ Tutup pukul 18.00      ·  Buka ⋅ Tutup pukul 18.00                    \"Taman ini banyak memiliki objek foto.\"  ·    \n",
      "10 teks :         Air Terjun Jagasatru         4,6(262)         · Tujuan Wisata       ·  Buka ⋅ Tutup pukul 18.00                    \"Tempat wisata ini sangatlah menarik seperti hiden gem di balik bukit.\"  ·    \n",
      "11 teks :         Bukit Guungan         4,5(98)         · Taman       ·  Buka 24 jam                    \"... keramaian wisata di candidasa Karangasem, namun lokasinya ...\"  ·    \n",
      "12 teks :         Telaga Waja Waterfall         4,5(332)         · Tujuan Wisata     · HC3M+HQM                     \"Tempat perhentian pertama jika rafting di BMW.\"  ·    \n",
      "13 teks :         Pantai Jasri         4,4(204)         · Tujuan Wisata     · GJ9C+WC9, Unnamed Road, Gg. Kangkung       ·  Buka ⋅ Tutup pukul 19.00                    \"Wisata keluarga nyaman dan murah\"  ·    \n",
      "14 teks :         Taman Bunga Teratai         4,3(481)         · Tujuan Wisata     · Jl. Raya Candidasa Desa Adat Bugbug       ·  Buka 24 jam                    \"... posisinya berada d daerah pariwisata candidasa, karangasem, ...\"  ·    \n",
      "15 teks :         Savana Tianyar         4,5(595)         · Tujuan Wisata     · Unnamed Road       ·  Buka ⋅ Tutup Kam pukul 06.00                    \"Tempat wisata yg lagi hits dengan view savana dan gunung agung\"  ·    \n",
      "16 teks :         Pantai Yeh Malet Kabupaten Karang Asem Bali         4,3(178)         · Tujuan Wisata     · Yeh Malet       ·  Buka 24 jam        \n",
      "17 teks :         Tirta Ujung Water Spring         4,4(358)         · Tujuan Wisata     · GJPG+FCF, Jl. Karangasem - Seraya       · Kompleks pura luas dengan menara tinggi Buka ⋅ Tutup pukul 17.30                    \"Tempat wisata yang murah dan menarik\"  ·    \n",
      "18 teks :         Pura Agung Besakih         4,5(9.987)         · Tujuan Wisata     · Jl. Gunung Mas No.Ds       · Kompleks pura luas dengan menara tinggi Buka sekarang      ·  Buka ⋅ Tutup pukul 18.00                    \"Lokasi sembahayang dan objek wisata di karangasem bali\"  ·    \n",
      "19 teks :         Danau Yeh Malet         4,0(263)         · Tujuan Wisata     · Unnamed Road       ·  Buka sekarang                    \"Danau sudah tidak menjadi objek wisata yang menarik untuk dikunjungi\"  ·    \n",
      "20 teks :         Jembatan Kuning Tukad Yeh Unda         4,4(168)         · Tujuan Wisata     · GCRW+27X, Tukad Yeh Unda, Sidemen       ·  Buka 24 jam                    \"wisata yg paling asik panorama yg menajukan alamnya\"  ·    \n",
      "21 teks :         Lahangan Sweet         4,7(310)         · Tujuan Wisata     · Banjar Dinas Gulinten       ·  Buka ⋅ Tutup pukul 20.00                    \"𝘛𝘦𝘮𝘱𝘢𝘵 𝘢𝘴𝘪𝘬 𝘣𝘶𝘢𝘵 𝘭𝘪𝘣𝘶𝘳𝘢𝘯\"  ·    \n",
      "22 teks :         Air Terjun Yeh Labuh         4,2(65)         · Tujuan Wisata     · GGPM+G99, Unnamed Road       · Vila bernuansa kasual & resto/bar indah Buka ⋅ Tutup Kam pukul 05.00                    \"Kolam dan tempat melukat\"  ·    \n",
      "23 teks :         Blue Lagoon Beach         4,2(3.459)         · Tujuan Wisata     · FGC7+38M       · Vila bernuansa kasual & resto/bar indah Buka ⋅ Tutup pukul 17.00      ·  Buka ⋅ Tutup pukul 18.00                    \"Pemandangan pantai dengan air yang jernih dan terumbu karang yang indah.\"  ·    \n",
      "24 teks :         Museum Pustaka Lontar Desa Wisata Dukuh Penaban         4,8(131)         · Museum     · Desa Adat Dukuh Penaban       ·  Buka ⋅ Tutup pukul 17.00                    \"Sukes selalu desa wisata pelestari kitab lontar...\"  ·    \n",
      "25 teks :         Telaga Surya         4,5(252)         · Tujuan Wisata     · Jl. Surya Indah No.17       ·  Buka ⋅ Tutup pukul 18.00                    \"Wisata air murah meriah.\"  ·    \n",
      "26 teks :         Bendungan Yeh Unda Hulu         4,3(76)         · Tujuan Wisata     · GFW2+CJ7, Banjar Sinduwati       ·  Buka 24 jam                    \"Tempat favorit buat riding dan mekerem 👍\"  ·    \n",
      "27 teks :         Virgin Beach, Karangasem, Bali         4,5(2.525)         · Pantai     · Jl. Raya Bukit Asah No.Desa                     \"Sayang belum di kembangkan dng benar sebagai objek wisata\"  ·    \n",
      "28 teks :         Pura Pasar Agung         4,7(484)         · Tujuan Wisata     · Selat                     \"Tempat ini juga memiliki keunikan tersendiri.\"  ·    \n",
      "29 teks :         Bukit Asmara         4,0(35)         · Tujuan Wisata     · GCQM+XCR, Sangkan Gunung, Sidemen       ·  Buka ⋅ Tutup pukul 18.00        \n",
      "30 teks :         Telaga Waja River Rafting Bali         4,5(580)         · Rafting     · Jl. Raya Muncan       ·  Buka ⋅ Tutup pukul 17.00                    \"Dan juga ada air terjun untuk foto.\"  ·    \n",
      "31 teks :         Bali Chocolate Factory         3,8(695)         · Tujuan Wisata                     \"Salah satu objek wisata pwninggalan aejarah dikarangasem\"  ·    \n",
      "32 teks :         Villa at bukit pemukuran         4,4(244)         · Tujuan Wisata     · Br.dukuh moding       ·  Buka 24 jam                    \"Tempat wisata keluarga\"  ·    \n",
      "33 teks :         Padang Bunga Kasna         4,3(141)         · Kebun Buah     · JFM8+HVM       ·  Buka ⋅ Tutup pukul 17.00                    \"Di sana terdapat kawasan wisata selfie taman edelways dan taman ...\"  ·    \n",
      "34 teks :         Maha Gangga Valley         4,5(525)         · Bumi perkemahan     · HHVR+C6W, Jl. Raya Tirta Gangga                     \"Salah satu tempat/objek wisata yg indah dan keren di Karangasem\"  ·    \n",
      "35 teks :         Tulamben Beach Viewpoint         4,6(164)         · Pantai     · Karangasem                     \"Tempat yang sangat bagus,cocok untuk wisata bahari,tempat diving ...\"  ·    \n",
      "36 teks :         Rumah Pohon Tulamben         4,6(28)         · Tujuan Wisata     · MHJC+P38       · Pantai terpencil tak seberapa luas Buka sekarang        \n",
      "37 teks :         Pantai Bias Tugel         4,5(1.473)         · Pantai       · Pantai terpencil tak seberapa luas                     \"wisata pantai dgn jalan yg terjal berbatu tp indah\"  ·    \n",
      "38 teks :         Pantai Jemeluk         4,4(916)         · Pantai     · Jl. Raya Amed       · Tempat snorkeling, karang & kapal karam Buka ⋅ Tutup pukul 16.00                    \"Tempat tenang, air jernih, tempat diving dan snorkeling yg asik\"  ·    \n",
      "39 teks :         Samsara Living Museum Bali         4,8(136)         · Museum Sejarah Lokal     · Jl. Telaga Tista       ·  Buka ⋅ Tutup pukul 16.00                    \"Object kreatif yg baru, sangat pas sebagai destinasi wisata kelas dunia..\"  ·    \n",
      "40 teks :         Pura Luhur Silayukti         4,8(297)         · Tujuan Wisata     · FG97+H6H, Jl. Silayukti                     \"Salah satu tempat suci di kabupaten Karangasem Bali untuk ...\"  ·    \n",
      "41 teks :         Bukit Asah Bali - Tempat Camping di Bali         4,5(386)         · Tujuan Wisata     · Desa Adat Bugbug, Jl. Raya Bukit Asah       ·  Buka ⋅ Tutup pukul 22.00                    \"tempat wisata di karangasem yang berada di tebing pinggir laut.\"  ·    \n",
      "42 teks :         Pura Candidasa         4,2(26)         · Tujuan Wisata     · Jl. Raya Candidasa       ·  Buka ⋅ Tutup pukul 22.00                    \"Pura yang selalu disinggahi untuk para perantau asal karangasem.\"  ·    \n",
      "43 teks :         Pura Dalem Puri         4,7(1.020)         · Tujuan Wisata     · Jl. Raya Menanga No.11                     \"Tempat wisata spiritual dan penyucian diri yang sangat bagus\"  ·    \n",
      "44 teks :         Agrowisata Abian Salak         4,5(107)         · Tujuan Wisata     · Jl. Baledan       ·  Buka ⋅ Tutup pukul 16.00                    \"Tempat wisata edukasi kebun salak\"  ·    \n",
      "45 teks :         Bukit CINTA PANGI         4,4(159)         · Tujuan Wisata     · HJF5+FGV, Abyandauh,Pangi Karangasem       · Observasi puncak bukit populer & kemah Buka ⋅ Tutup pukul 18.00                    \"Tempat yang bagus, perlu dikembangkan untuk menjadi destinasi wisata.\"  ·    \n",
      "46 teks :         Bukit Asah         4,6(265)         · Puncak Gunung       · Observasi puncak bukit populer & kemah Buka 24 jam                    \"Wisata bukit asah dan tempat para angler mancing\"  ·    \n",
      "47 teks :         Pura Gelap Besakih         4,8(265)         · Tujuan Wisata     · Jl. Entry Pura Besakih       ·  Buka 24 jam                    \"Tempat yang tepat untuk menikmati pemandangan pulau Bali dari ketinggian\"  ·    \n",
      "48 teks :         Rumah Coklat         4,0(60)         · Produsen     · Pantai Jian, Subagan       ·  Buka ⋅ Tutup pukul 17.00        \n",
      "49 teks :         Pura Batu Belah         4,5(19)         · Tujuan Wisata     · FFPV+G2W, Jalan Pura Jati Banjar Kaler, Antiga, Manggis       ·  Buka 24 jam        \n",
      "50 teks :         Bukit Surga         4,4(527)         · Taman perkemahan                     \"Dekat dengan tempat wisata bukit mimpi dan bukit cemara.\"  ·    \n",
      "51 teks :         Candidasa Lotus Lagoon         4,3(88)         · Tujuan Wisata       ·  Buka 24 jam                    \"... ke Lotus Lagoon yang termasuk di kabupaten Karangasem ini.\"  ·    \n",
      "52 teks :         Rumah Pohon Bukit Lemped         4,4(614)         · Tujuan Wisata     · Jl. Raya Tirta Gangga       ·  Tutup sementara                    \"Objek wisata rumah pohon, rumah/pondok yg dibuat diatas pohon.\"  ·    \n",
      "53 teks :         Taman Asta Gangga         4,9(56)         · Bumi perkemahan     · Jl. Bintang                     \"Tempat liburan yang mengasikan\"  ·    \n",
      "54 teks :         Pantai Pasir Hitam         4,6(78)         · Tujuan Wisata     · HMCR+VGP       ·  Buka 24 jam                    \"Wisata dengan pengunjung yang terbilang sepi.\"  ·    \n",
      "55 teks :         Virgin Beach Karangasem Bali         4,6(395)         · Pantai     · Jalan Pantai Perasi, Sengkidu, Manggis                     \"Tempat,a bagus alami\n",
      "Tp naiknya ngos2an dikit😀\"  ·    \n",
      "56 teks :         Królewski Pałac na Wodzie         4,7(61)         · Tujuan Wisata     · GJPJ+6CV                     \"Hidden gem of Karangasem ❤️\"  ·    \n",
      "57 teks :         Pasir Putih         4,6(313)         · Pantai                     \"Tempat yang indah dengan pemandangan gunung agung dan sawah\"  ·    \n",
      "58 teks :         Bukit cemara         4,6(81)         · Tujuan Wisata       ·  Buka 24 jam        \n",
      "59 teks :         Pantai Prasi         4,3(101)         · Tujuan Wisata     · GJ37+665, Jl. Pantai Perasi       ·  Buka 24 jam                    \"Obyek wisata pantai di Karangasem ...\"  ·    \n",
      "60 teks :         Pantai Sosro         4,0(23)         · Pantai         \n",
      "61 teks :         Pantai Labuan Jelung         3,9(10)         · Tujuan Wisata     · Banjar Tunassari, Desa Tianyar       ·  Buka 24 jam        \n",
      "62 teks :         Desa Wisata Timbrah         4,9(17)         · Tujuan Wisata     · Jl. Raya Timbrah       ·  Buka 24 jam                    \"Desa Timbrah adalah desa tua yang ada di Karangasem, ...\"  ·    \n",
      "63 teks :         Rama VCO& GUNGDE         4,3(307)         · Tujuan Wisata     · Jl. Bukit Belong       ·  Buka 24 jam                    \"Salah satu objek alami yang berada di desa gunaksa.\"  ·    \n",
      "64 teks :         Pantai Amed         4,5(1.164)         · Pantai       · Pantai indah santai dengan tempat makan                     \"Cocok bagi yang suka wisata untuk mencari ketenangan.\"  ·    \n",
      "65 teks :         Pura Lempuyang Luhur         4,5(631)         · Pura     · Desa Lempuyang       ·  Buka ⋅ Tutup pukul 22.00                    \"Tempat wisata religi yang indah.\"  ·    \n",
      "66 teks :         Banjar Pangi Karangasem         4,4(54)         · Tujuan Wisata     · Lingkungan Pangi       ·  Buka 24 jam                    \"Pemandangan sawah dan gunung\"  ·    \n",
      "67 teks :         Rumah Capung         Tidak ada ulasan         · Tujuan Wisata     · Linkungan Jasri Kelod, Jl. Raya Perasi         \n",
      "68 teks :         Pura Dwangga         4,3(7)         · Tujuan Wisata     · GFP6+JC8                     \"Memang  bagus untuk adventure dan wisata spiritual.\"  ·    \n",
      "69 teks :         Banjar Bukit         4,5(4)         · Tujuan Wisata     · HJJP+43C         \n",
      "70 teks :         Air Terjun Telaga Waja         Tidak ada ulasan         · Taman     · GCFQ+483, Karang Sidemen, Batukliang Utara, Kabupaten Lombok Tengah, Nusa Tenggara Bar         \n",
      "71 teks :         Telaga Suryabangol         4,5(11)         · Taman bermain     · HCHJ+845                     \"Tempat yang indah dan asri untuk rekreasi dan mandi di sungai 👍✌\"  ·    \n",
      "72 teks :         Virgin Beach         Tidak ada ulasan         · Tujuan Wisata     · HJ37+F3Q         \n",
      "73 teks :         Pesona Munduk Ngandang         4,6(15)         · Tujuan Wisata                     \"Obyek wisata selfie yg berada di sebelah Pura Khayangan Tiga Besakih\"  ·    \n",
      "74 teks :         Pura Gumang ᬧᬸᬭ​ᬕᬸᬫᬂ᭟​         4,8(89)         · Tujuan Wisata     · FHVQ+MFW, Jl. Raya Bugbug       ·  Buka 24 jam                    \"Mulai dari view pantai dan perbukitan.\"  ·    \n",
      "75 teks :         Ceeng Hill         4,9(11)         · Kafe     · FF6Q+X7M, banjar bengkel,desa       ·  Buka 24 jam                    \"Wisata selfie ceenghill\"  ·    \n",
      "76 teks :         Bukit Jambul         4,5(78)         · Puncak Gunung       · Sawah terasering di lereng bukit hijau                     \"pemandangan yang bagus, menyegarkan\"  ·    \n",
      "77 teks :         Obyek Wisata Batu Belah Antiga         5,0(1)         · Tujuan Wisata     · FFPR+GX6         \n",
      "78 teks :         Bukit Mimpi         4,3(16)         · Tujuan Wisata     · HGMJ+J3P       ·  Tutup sementara        \n",
      "79 teks :         Taman Sari Bali         4,4(20)         · Taman     · JFJ8+54R, Unnamed Road       ·  Tutup sementara                    \"Tempat wisata baru ditengah dinginnya desa besakih💯\"  ·    \n"
     ]
    }
   ],
   "source": [
    "# for idx,i in enumerate(isi):\n",
    "#     teks = i.text\n",
    "#     print(f'{idx} teks : {teks}')"
   ]
  },
  {
   "cell_type": "code",
   "execution_count": null,
   "metadata": {},
   "outputs": [],
   "source": []
  }
 ],
 "metadata": {
  "kernelspec": {
   "display_name": "Python 3",
   "language": "python",
   "name": "python3"
  },
  "language_info": {
   "codemirror_mode": {
    "name": "ipython",
    "version": 3
   },
   "file_extension": ".py",
   "mimetype": "text/x-python",
   "name": "python",
   "nbconvert_exporter": "python",
   "pygments_lexer": "ipython3",
   "version": "3.8.10"
  },
  "orig_nbformat": 4,
  "vscode": {
   "interpreter": {
    "hash": "ffbfc792e496a15b6b750fac43e7a9afdc7c26545a7abda9dc172ad3cb978227"
   }
  }
 },
 "nbformat": 4,
 "nbformat_minor": 2
}
