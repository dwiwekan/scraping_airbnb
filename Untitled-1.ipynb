{
 "cells": [
  {
   "cell_type": "code",
   "execution_count": 1,
   "metadata": {},
   "outputs": [],
   "source": [
    "# pip install beautifulsoup4"
   ]
  },
  {
   "cell_type": "code",
   "execution_count": 3,
   "metadata": {},
   "outputs": [],
   "source": [
    "from selenium import webdriver\n",
    "from bs4 import BeautifulSoup\n",
    "import pandas as pd\n",
    "import requests"
   ]
  },
  {
   "attachments": {},
   "cell_type": "markdown",
   "metadata": {},
   "source": [
    "# Beautifulsoup"
   ]
  },
  {
   "cell_type": "code",
   "execution_count": 29,
   "metadata": {},
   "outputs": [],
   "source": [
    "page = requests.get(\"https://www.booking.com/searchresults.en-us.html?ss=Bali%2C+Indonesia&efdco=1&label=gen173nr-1FCAEoggI46AdIM1gEaGiIAQGYATG4ARfIAQzYAQHoAQH4AQKIAgGoAgO4AoeR850GwAIB0gIkMzIxMzg2ZjItNDg4Ny00ZjJiLWE2YzktMGZlZDY3NTBkNzdh2AIF4AIB&aid=304142&lang=en-us&sb=1&src_elem=sb&src=index&checkin=2023-01-14&checkout=2023-01-28&group_adults=2&no_rooms=1&group_children=0&sb_travel_purpose=leisure\")\n",
    "soup = BeautifulSoup(page.content, \"html.parser\")"
   ]
  },
  {
   "cell_type": "code",
   "execution_count": 41,
   "metadata": {},
   "outputs": [
    {
     "data": {
      "text/plain": [
       "[]"
      ]
     },
     "execution_count": 41,
     "metadata": {},
     "output_type": "execute_result"
    }
   ],
   "source": [
    "listings = soup.find_all(\"div\",class_=\"a826ba81c4 fe821aea6c fa2f36ad22 afd256fc79 d08f526e0d ed11e24d01 ef9845d4b3 da89aeb942\")\n",
    "listings    \n",
    "# for item in elemenet_list:\n",
    "#     nama = item.find(\"div\", class_=\"c4mnd7m dir dir-ltr\")\n",
    "#     print(nama)"
   ]
  },
  {
   "cell_type": "code",
   "execution_count": 43,
   "metadata": {},
   "outputs": [],
   "source": [
    "from nltk import tokenize"
   ]
  },
  {
   "cell_type": "code",
   "execution_count": 45,
   "metadata": {},
   "outputs": [
    {
     "name": "stdout",
     "output_type": "stream",
     "text": [
      "['Vila di Kecamatan Denpasar SelatanVila 1 kamar tidur menawan dengan kolam renang pribadi1 tempat tidur double23 Feb – 2 MarRp912.829\\xa0Rp832.829\\xa0malamRp832.829 per malam, awalnya Rp912.8294,97 (32)HosTeladanKondominium di Kecamatan Denpasar BaratApartemen Tenten Ambengan - Studio Suite 11 tempat tidur10–16 JanRp491.600\\xa0malamRp491.600 per malam5,0 (4)HosTeladanKamar hotel di KutaR5 DEKAT RUMAH TAMU JERO 18 KUTA dekat bandara.1 tempat tidur18–24 JanRp347.012\\xa0malamRp347.012 per malam4,73 (22)Rumah liburan di Kecamatan Denpasar SelatanRumah Kayu 2KT Nyaman dengan Kolam Renang Pribadi2 tempat tidur10–15 JanRp1.883.495\\xa0Rp1.412.621\\xa0malamRp1.412.621 per malam, awalnya Rp1.883.4954,75 (24)HosTeladanKamar hotel di Kecamatan KutaKamar Superior Garden View hanya di Pusat Kuta1 tempat tidur28 Jan – 4 FebRp327.321\\xa0malamRp327.321 per malam4,51 (37)Vila di Kecamatan Denpasar TimurVilla Tunjung 1 By Villagueaja1 tempat tidur26–31 JanRp450.000\\xa0malamRp450.000 per malam4,29 (41)Vila di Badunghingga 80% 2 BR vila NYAMAN di seminyak3 tempat tidur17–22 JanRp1.162.975\\xa0malamRp1.162.975 per malam4,51 (85)Vila di Kecamatan KutaMempesona - Vila Romantis 1 BR1 tempat tidur king12–17 FebRp1.935.900\\xa0Rp1.548.720\\xa0malamRp1.548.720 per malam, awalnya Rp1.935.900BaruKamar hotel di Kuta UtaraS.', 'Penginapan Mewah Anda di Bali Haven Seminyak Diskon -50%1 tempat tidur queen10–15 JanRp595.704\\xa0malamRp595.704 per malam4,66 (100)Kondominium di KutaApartemen 62101 tempat tidur king1–6 FebRp583.810\\xa0malamRp583.810 per malam4,45 (105)Kamar pribadi di Denpasar Joglo Villa Bali1 tempat tidur king11–17 JanRp187.006\\xa0malamRp187.006 per malam4,73 (163)Vila di Kuta UtaraThe Bagus -- 2Bedroom Private Pool Villa2 tempat tidur king6–12 FebRp900.000\\xa0malamRp900.000 per malam4,52 (33)Apartemen di KutaApartemen Studio Bersih dan Cerah di Seminyak1 tempat tidur15–20 FebRp324.480\\xa0malamRp324.480 per malam4,72 (94)Kamar hotel di SeminyakKolam Renang Rooftop & Gym di Hotel Bintang 41 tempat tidur double14–19 JanRp918.510\\xa0Rp632.500\\xa0malamRp632.500 per malam, awalnya Rp918.5104,17 (120)Apartemen di SukawatiKamar dekat dengan Ubud1 tempat tidur queen10–16 JanRp347.012\\xa0malamRp347.012 per malam5,0 (3)Kamar pribadi di Denpasar UtaraJoglo Villa Bali1 tempat tidur king11–17 JanRp216.297\\xa0malamRp216.297 per malam4,71 (7)Kamar pribadi di Denpasar UtaraJoglo Villa Bali1 tempat tidur king12–17 JanRp216.309\\xa0malamRp216.309 per malam4,69 (26)Vila di Kecamatan Denpasar Selatancheerful 1 bedroom villa with private pool1 tempat tidur8–13 FebRp925.365\\xa0malamRp925.365 per malam4,88 (16)']\n"
     ]
    }
   ],
   "source": [
    "tokenisasi = tokenize.sent_tokenize(listings.text)\n",
    "print(tokenisasi)"
   ]
  },
  {
   "cell_type": "markdown",
   "metadata": {},
   "source": []
  }
 ],
 "metadata": {
  "kernelspec": {
   "display_name": "Python 3",
   "language": "python",
   "name": "python3"
  },
  "language_info": {
   "codemirror_mode": {
    "name": "ipython",
    "version": 3
   },
   "file_extension": ".py",
   "mimetype": "text/x-python",
   "name": "python",
   "nbconvert_exporter": "python",
   "pygments_lexer": "ipython3",
   "version": "3.8.10 (tags/v3.8.10:3d8993a, May  3 2021, 11:48:03) [MSC v.1928 64 bit (AMD64)]"
  },
  "orig_nbformat": 4,
  "vscode": {
   "interpreter": {
    "hash": "ffbfc792e496a15b6b750fac43e7a9afdc7c26545a7abda9dc172ad3cb978227"
   }
  }
 },
 "nbformat": 4,
 "nbformat_minor": 2
}
