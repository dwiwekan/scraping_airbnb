{
 "cells": [
  {
   "cell_type": "code",
   "execution_count": 1,
   "metadata": {},
   "outputs": [],
   "source": [
    "import pandas as pd\n",
    "import numpy as np\n",
    "import matplotlib.pyplot as plt\n",
    "import seaborn as sns\n",
    "import requests\n",
    "%matplotlib inline"
   ]
  },
  {
   "cell_type": "code",
   "execution_count": 2,
   "metadata": {},
   "outputs": [],
   "source": [
    "from urllib.request import urlopen\n",
    "from bs4 import BeautifulSoup\n",
    "from csv import writer"
   ]
  },
  {
   "cell_type": "code",
   "execution_count": 10,
   "metadata": {},
   "outputs": [],
   "source": [
    "url = input()\n",
    "res = requests.get(url)\n",
    "headers = {'User-Agent': 'Mozilla/5.0 (Windows NT 10.0;Win64) AppleWebkit/537.36 (KHTML, like Gecko) Chrome/89.0.4389.82 Safari/537.36'}\n",
    "html = urlopen(url)\n",
    "page = requests.get(url, headers=headers)\n",
    "soup = BeautifulSoup(page.content, 'html5lib')"
   ]
  },
  {
   "cell_type": "code",
   "execution_count": 11,
   "metadata": {},
   "outputs": [
    {
     "name": "stdout",
     "output_type": "stream",
     "text": [
      "<title>Kamar Superior Hanya di Kuta Center - Hotel untuk Disewakan di Kecamatan Kuta, Bali, Indonesia - Airbnb</title>\n"
     ]
    }
   ],
   "source": [
    "# Get the title\n",
    "title = soup.title\n",
    "print(title)"
   ]
  },
  {
   "cell_type": "code",
   "execution_count": 38,
   "metadata": {},
   "outputs": [
    {
     "name": "stdout",
     "output_type": "stream",
     "text": [
      "Kamar di hotel. Tuan rumah: Mahe\n"
     ]
    }
   ],
   "source": [
    "# Get the \n",
    "import re\n",
    "text = soup.get_text()\n",
    "match = re.search(r'{\"__typename\":\"PdpOverviewSection\",\"title\":\"(.*?)\"', text)\n",
    "\n",
    "# Mengambil bagian yang ditemukan\n",
    "if match:\n",
    "    result = match.group(1)\n",
    "    print(result)"
   ]
  },
  {
   "cell_type": "markdown",
   "metadata": {},
   "source": []
  },
  {
   "cell_type": "code",
   "execution_count": 23,
   "metadata": {},
   "outputs": [],
   "source": [
    "# /html/body/div[5]/div/div/div[1]/div/div[1]/div/div/div/div[1]/main/div/div[1]/div[3]/div/div[1]/div/div[1]/div/div/section/div/div/div/div[1]/div/h2\n",
    "div = soup.find_all(\"H2\", class_=\"_14i3z6h\")\n",
    "for d in div:\n",
    "    print(d.get_text())"
   ]
  },
  {
   "cell_type": "code",
   "execution_count": 65,
   "metadata": {},
   "outputs": [
    {
     "name": "stdout",
     "output_type": "stream",
     "text": [
      "https://www.airbnb.com/s/Denpasar/homes/\n",
      "Number of hotels: 18\n",
      "Next page: \n",
      " /s/Denpasar/homes?tab_id=home_tab&refinement_paths%5B%5D=%2Fhomes&query=Denpasar%2C%20Bali%2C%20Indonesia&place_id=ChIJ24BeDptA0i0RSje5zOg0c-I&flexible_trip_lengths%5B%5D=one_week&price_filter_input_type=0&price_filter_num_nights=5&federated_search_session_id=256287c4-c689-4e39-94a0-704b0cbde461&search_type=unknown&pagination_search=true&cursor=eyJzZWN0aW9uX29mZnNldCI6MywiaXRlbXNfb2Zmc2V0IjoxOCwidmVyc2lvbiI6MX0%3D\n"
     ]
    }
   ],
   "source": [
    "\n",
    "import requests\n",
    "from scrapy.selector import Selector\n",
    "\n",
    "# Prepare url\n",
    "city     = 'Denpasar'\n",
    "main_url = 'https://www.airbnb.com'\n",
    "city_url = f'{main_url}/s/{city}/homes/'\n",
    "print(city_url)\n",
    "# Create selector\n",
    "html = requests.get(city_url).content\n",
    "sel  = Selector(text=html)\n",
    "\n",
    "# Get hotels\n",
    "hotels = sel.css('div.c4mnd7m')\n",
    "print('Number of hotels:', len(hotels))\n",
    "\n",
    "# Find the next page url\n",
    "next_page = sel.css('a._1bfat5l ::attr(href)').extract_first()\n",
    "print('Next page:', '\\n', next_page)"
   ]
  },
  {
   "cell_type": "code",
   "execution_count": 70,
   "metadata": {},
   "outputs": [],
   "source": [
    "# Select the first announcement from the previous list of 20 \n",
    "hotel = hotels[1]\n",
    "\n",
    "# Get main information\n",
    "title            = hotel.css('a ::attr(aria-label)').extract_first()\n",
    "url_link         = hotel.css('::attr(href)').extract_first()\n",
    "url_img          = hotel.css('img ::attr(src)').extract_first()\n",
    "type_of_room     = hotel.css('div._b14dlit ::text').extract_first()\n",
    "\n",
    "# Get tag information\n",
    "additionnal_info = hotel.css('div._kqh46o ::text').extract()\n",
    "additionnal_info = [i for i in additionnal_info if i not in [' · ']]\n",
    "\n",
    "# Get rating information\n",
    "\n",
    "# Is it a airbnb \"superhost\" ?\n",
    "superhost        = hotel.css('div._ufoy4t::text').extract()\n",
    "superhost        = 'SUPERHOST' in superhost"
   ]
  },
  {
   "cell_type": "code",
   "execution_count": 71,
   "metadata": {},
   "outputs": [],
   "source": [
    "title"
   ]
  },
  {
   "cell_type": "code",
   "execution_count": null,
   "metadata": {},
   "outputs": [],
   "source": []
  }
 ],
 "metadata": {
  "kernelspec": {
   "display_name": "Python 3",
   "language": "python",
   "name": "python3"
  },
  "language_info": {
   "codemirror_mode": {
    "name": "ipython",
    "version": 3
   },
   "file_extension": ".py",
   "mimetype": "text/x-python",
   "name": "python",
   "nbconvert_exporter": "python",
   "pygments_lexer": "ipython3",
   "version": "3.8.10 (tags/v3.8.10:3d8993a, May  3 2021, 11:48:03) [MSC v.1928 64 bit (AMD64)]"
  },
  "orig_nbformat": 4,
  "vscode": {
   "interpreter": {
    "hash": "ffbfc792e496a15b6b750fac43e7a9afdc7c26545a7abda9dc172ad3cb978227"
   }
  }
 },
 "nbformat": 4,
 "nbformat_minor": 2
}
